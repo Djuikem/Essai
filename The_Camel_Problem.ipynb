{
 "cells": [
  {
   "cell_type": "code",
   "execution_count": 1,
   "id": "3c51ce6b",
   "metadata": {},
   "outputs": [],
   "source": [
    "def camel_problem(m):\n",
    "    slt = []\n",
    "    for a in range(2,3+m+1):\n",
    "    \n",
    "        for b in range(3, (((m+2)*a)//(a-1))+1):\n",
    "\n",
    "            denominateur = (b*(a-1))-a\n",
    "\n",
    "            if denominateur > 0 :\n",
    "\n",
    "                k = ((1+m)*a*b) // denominateur\n",
    "\n",
    "                for c in range(7, k+1):\n",
    "\n",
    "                    if ((c*b*(a-1) - a*(c+b)) > 0) :\n",
    "                        d = (a*b*c) // (c*b*(a-1) - a*(c+b))\n",
    "\n",
    "                        slt.append(d)\n",
    "\n",
    "                        print('a = ',str(a), 'b = ', str(b), 'c = ', str(c), 'd = ', str(d))\n",
    "                    else:\n",
    "                        continue\n",
    "\n",
    "    print(\"l'ensemble de solutions possible est:\", slt)\n"
   ]
  },
  {
   "cell_type": "code",
   "execution_count": 2,
   "id": "06d2fd94",
   "metadata": {},
   "outputs": [
    {
     "name": "stdout",
     "output_type": "stream",
     "text": [
      "a =  2 b =  3 c =  7 d =  42\n",
      "a =  2 b =  3 c =  8 d =  24\n",
      "a =  2 b =  3 c =  9 d =  18\n",
      "a =  2 b =  3 c =  10 d =  15\n",
      "a =  2 b =  3 c =  11 d =  13\n",
      "a =  2 b =  3 c =  12 d =  12\n",
      "a =  2 b =  4 c =  7 d =  9\n",
      "a =  2 b =  4 c =  8 d =  8\n",
      "l'ensemble de solutions possible est: [42, 24, 18, 15, 13, 12, 9, 8]\n"
     ]
    }
   ],
   "source": [
    "camel_problem(1)"
   ]
  },
  {
   "cell_type": "code",
   "execution_count": 3,
   "id": "0733820e",
   "metadata": {},
   "outputs": [
    {
     "name": "stdout",
     "output_type": "stream",
     "text": [
      "a =  2 b =  3 c =  7 d =  42\n",
      "a =  2 b =  3 c =  8 d =  24\n",
      "a =  2 b =  3 c =  9 d =  18\n",
      "a =  2 b =  3 c =  10 d =  15\n",
      "a =  2 b =  3 c =  11 d =  13\n",
      "a =  2 b =  3 c =  12 d =  12\n",
      "a =  2 b =  3 c =  13 d =  11\n",
      "a =  2 b =  3 c =  14 d =  10\n",
      "a =  2 b =  3 c =  15 d =  10\n",
      "a =  2 b =  3 c =  16 d =  9\n",
      "a =  2 b =  3 c =  17 d =  9\n",
      "a =  2 b =  3 c =  18 d =  9\n",
      "a =  2 b =  4 c =  7 d =  9\n",
      "a =  2 b =  4 c =  8 d =  8\n",
      "a =  2 b =  4 c =  9 d =  7\n",
      "a =  2 b =  4 c =  10 d =  6\n",
      "a =  2 b =  4 c =  11 d =  6\n",
      "a =  2 b =  4 c =  12 d =  6\n",
      "a =  2 b =  5 c =  7 d =  6\n",
      "a =  2 b =  5 c =  8 d =  5\n",
      "a =  2 b =  5 c =  9 d =  5\n",
      "a =  2 b =  5 c =  10 d =  5\n",
      "a =  2 b =  6 c =  7 d =  5\n",
      "a =  2 b =  6 c =  8 d =  4\n",
      "a =  2 b =  6 c =  9 d =  4\n",
      "a =  2 b =  7 c =  7 d =  4\n",
      "a =  2 b =  7 c =  8 d =  4\n",
      "a =  2 b =  8 c =  7 d =  4\n",
      "a =  2 b =  8 c =  8 d =  4\n",
      "a =  3 b =  3 c =  7 d =  5\n",
      "a =  3 b =  3 c =  8 d =  4\n",
      "a =  3 b =  3 c =  9 d =  4\n",
      "a =  3 b =  4 c =  7 d =  3\n",
      "a =  4 b =  3 c =  7 d =  3\n",
      "l'ensemble de solutions possible est: [42, 24, 18, 15, 13, 12, 11, 10, 10, 9, 9, 9, 9, 8, 7, 6, 6, 6, 6, 5, 5, 5, 5, 4, 4, 4, 4, 4, 4, 5, 4, 4, 3, 3]\n"
     ]
    }
   ],
   "source": [
    "camel_problem(2)"
   ]
  },
  {
   "cell_type": "code",
   "execution_count": 4,
   "id": "58003707",
   "metadata": {},
   "outputs": [
    {
     "name": "stdout",
     "output_type": "stream",
     "text": [
      "a =  2 b =  3 c =  7 d =  42\n",
      "a =  2 b =  3 c =  8 d =  24\n",
      "a =  2 b =  3 c =  9 d =  18\n",
      "a =  2 b =  3 c =  10 d =  15\n",
      "a =  2 b =  3 c =  11 d =  13\n",
      "a =  2 b =  3 c =  12 d =  12\n",
      "a =  2 b =  3 c =  13 d =  11\n",
      "a =  2 b =  3 c =  14 d =  10\n",
      "a =  2 b =  3 c =  15 d =  10\n",
      "a =  2 b =  3 c =  16 d =  9\n",
      "a =  2 b =  3 c =  17 d =  9\n",
      "a =  2 b =  3 c =  18 d =  9\n",
      "a =  2 b =  3 c =  19 d =  8\n",
      "a =  2 b =  3 c =  20 d =  8\n",
      "a =  2 b =  3 c =  21 d =  8\n",
      "a =  2 b =  3 c =  22 d =  8\n",
      "a =  2 b =  3 c =  23 d =  8\n",
      "a =  2 b =  3 c =  24 d =  8\n",
      "a =  2 b =  4 c =  7 d =  9\n",
      "a =  2 b =  4 c =  8 d =  8\n",
      "a =  2 b =  4 c =  9 d =  7\n",
      "a =  2 b =  4 c =  10 d =  6\n",
      "a =  2 b =  4 c =  11 d =  6\n",
      "a =  2 b =  4 c =  12 d =  6\n",
      "a =  2 b =  4 c =  13 d =  5\n",
      "a =  2 b =  4 c =  14 d =  5\n",
      "a =  2 b =  4 c =  15 d =  5\n",
      "a =  2 b =  4 c =  16 d =  5\n",
      "a =  2 b =  5 c =  7 d =  6\n",
      "a =  2 b =  5 c =  8 d =  5\n",
      "a =  2 b =  5 c =  9 d =  5\n",
      "a =  2 b =  5 c =  10 d =  5\n",
      "a =  2 b =  5 c =  11 d =  4\n",
      "a =  2 b =  5 c =  12 d =  4\n",
      "a =  2 b =  5 c =  13 d =  4\n",
      "a =  2 b =  6 c =  7 d =  5\n",
      "a =  2 b =  6 c =  8 d =  4\n",
      "a =  2 b =  6 c =  9 d =  4\n",
      "a =  2 b =  6 c =  10 d =  4\n",
      "a =  2 b =  6 c =  11 d =  4\n",
      "a =  2 b =  6 c =  12 d =  4\n",
      "a =  2 b =  7 c =  7 d =  4\n",
      "a =  2 b =  7 c =  8 d =  4\n",
      "a =  2 b =  7 c =  9 d =  4\n",
      "a =  2 b =  7 c =  10 d =  3\n",
      "a =  2 b =  7 c =  11 d =  3\n",
      "a =  2 b =  8 c =  7 d =  4\n",
      "a =  2 b =  8 c =  8 d =  4\n",
      "a =  2 b =  8 c =  9 d =  3\n",
      "a =  2 b =  8 c =  10 d =  3\n",
      "a =  2 b =  9 c =  7 d =  4\n",
      "a =  2 b =  9 c =  8 d =  3\n",
      "a =  2 b =  9 c =  9 d =  3\n",
      "a =  2 b =  9 c =  10 d =  3\n",
      "a =  2 b =  10 c =  7 d =  3\n",
      "a =  2 b =  10 c =  8 d =  3\n",
      "a =  2 b =  10 c =  9 d =  3\n",
      "a =  2 b =  10 c =  10 d =  3\n",
      "a =  3 b =  3 c =  7 d =  5\n",
      "a =  3 b =  3 c =  8 d =  4\n",
      "a =  3 b =  3 c =  9 d =  4\n",
      "a =  3 b =  3 c =  10 d =  4\n",
      "a =  3 b =  3 c =  11 d =  4\n",
      "a =  3 b =  3 c =  12 d =  4\n",
      "a =  3 b =  4 c =  7 d =  3\n",
      "a =  3 b =  4 c =  8 d =  3\n",
      "a =  3 b =  4 c =  9 d =  3\n",
      "a =  3 b =  5 c =  7 d =  3\n",
      "a =  3 b =  5 c =  8 d =  2\n",
      "a =  3 b =  6 c =  7 d =  2\n",
      "a =  3 b =  6 c =  8 d =  2\n",
      "a =  3 b =  7 c =  7 d =  2\n",
      "a =  4 b =  3 c =  7 d =  3\n",
      "a =  4 b =  3 c =  8 d =  3\n",
      "a =  4 b =  3 c =  9 d =  3\n",
      "a =  4 b =  4 c =  7 d =  2\n",
      "a =  4 b =  4 c =  8 d =  2\n",
      "a =  4 b =  5 c =  7 d =  2\n",
      "a =  5 b =  3 c =  7 d =  3\n",
      "a =  5 b =  3 c =  8 d =  2\n",
      "a =  5 b =  4 c =  7 d =  2\n",
      "a =  6 b =  3 c =  7 d =  2\n",
      "a =  6 b =  3 c =  8 d =  2\n",
      "l'ensemble de solutions possible est: [42, 24, 18, 15, 13, 12, 11, 10, 10, 9, 9, 9, 8, 8, 8, 8, 8, 8, 9, 8, 7, 6, 6, 6, 5, 5, 5, 5, 6, 5, 5, 5, 4, 4, 4, 5, 4, 4, 4, 4, 4, 4, 4, 4, 3, 3, 4, 4, 3, 3, 4, 3, 3, 3, 3, 3, 3, 3, 5, 4, 4, 4, 4, 4, 3, 3, 3, 3, 2, 2, 2, 2, 3, 3, 3, 2, 2, 2, 3, 2, 2, 2, 2]\n"
     ]
    }
   ],
   "source": [
    "camel_problem(3)"
   ]
  },
  {
   "cell_type": "code",
   "execution_count": null,
   "id": "772dcc2d",
   "metadata": {},
   "outputs": [],
   "source": []
  }
 ],
 "metadata": {
  "kernelspec": {
   "display_name": "Python 3 (ipykernel)",
   "language": "python",
   "name": "python3"
  },
  "language_info": {
   "codemirror_mode": {
    "name": "ipython",
    "version": 3
   },
   "file_extension": ".py",
   "mimetype": "text/x-python",
   "name": "python",
   "nbconvert_exporter": "python",
   "pygments_lexer": "ipython3",
   "version": "3.11.4"
  }
 },
 "nbformat": 4,
 "nbformat_minor": 5
}
